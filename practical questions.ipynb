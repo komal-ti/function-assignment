{
 "cells": [
  {
   "cell_type": "code",
   "execution_count": 1,
   "metadata": {},
   "outputs": [
    {
     "name": "stdout",
     "output_type": "stream",
     "text": [
      "Sum of even numbers: 62\n"
     ]
    }
   ],
   "source": [
    "#Ques1:1. Write a Python function that takes a list of numbers as input and returns the sum of all even numbers in\n",
    "#the list\n",
    "def sum_of_evens(numbers):\n",
    "    return sum(num for num in numbers if num % 2 == 0)\n",
    "\n",
    "# Example usage:\n",
    "numbers = [47, 11, 42, 13, 20]\n",
    "result = sum_of_evens(numbers)\n",
    "print(\"Sum of even numbers:\", result)\n"
   ]
  },
  {
   "cell_type": "code",
   "execution_count": 2,
   "metadata": {},
   "outputs": [
    {
     "name": "stdout",
     "output_type": "stream",
     "text": [
      "Reversed string: olleh\n"
     ]
    }
   ],
   "source": [
    "#Ques2: Create a Python function that accepts a string and returns the reverse of that string.\n",
    "def reverse_string(s):\n",
    "    return s[::-1]\n",
    "\n",
    "# Example usage:\n",
    "text = \"hello\"\n",
    "reversed_text = reverse_string(text)\n",
    "print(\"Reversed string:\", reversed_text)\n"
   ]
  },
  {
   "cell_type": "code",
   "execution_count": null,
   "metadata": {},
   "outputs": [
    {
     "name": "stdout",
     "output_type": "stream",
     "text": [
      "Squared numbers: [1, 4, 9, 16, 25]\n"
     ]
    }
   ],
   "source": [
    "#Ques3: Implement a Python function that takes a list of integers and returns a new list containing the squares of\n",
    "#each number.\n",
    "def square_numbers(numbers):\n",
    "    return [num ** 2 for num in numbers]\n",
    "\n",
    "# Example usage:\n",
    "numbers = [1, 2, 3, 4, 5]\n",
    "squared_numbers = square_numbers(numbers)\n",
    "print(\"Squared numbers:\", squared_numbers)\n"
   ]
  },
  {
   "cell_type": "code",
   "execution_count": 4,
   "metadata": {},
   "outputs": [
    {
     "name": "stdout",
     "output_type": "stream",
     "text": [
      "2 is a prime number\n",
      "3 is a prime number\n",
      "5 is a prime number\n",
      "7 is a prime number\n",
      "11 is a prime number\n",
      "13 is a prime number\n",
      "17 is a prime number\n",
      "19 is a prime number\n",
      "23 is a prime number\n",
      "29 is a prime number\n",
      "31 is a prime number\n",
      "37 is a prime number\n",
      "41 is a prime number\n",
      "43 is a prime number\n",
      "47 is a prime number\n",
      "53 is a prime number\n",
      "59 is a prime number\n",
      "61 is a prime number\n",
      "67 is a prime number\n",
      "71 is a prime number\n",
      "73 is a prime number\n",
      "79 is a prime number\n",
      "83 is a prime number\n",
      "89 is a prime number\n",
      "97 is a prime number\n",
      "101 is a prime number\n",
      "103 is a prime number\n",
      "107 is a prime number\n",
      "109 is a prime number\n",
      "113 is a prime number\n",
      "127 is a prime number\n",
      "131 is a prime number\n",
      "137 is a prime number\n",
      "139 is a prime number\n",
      "149 is a prime number\n",
      "151 is a prime number\n",
      "157 is a prime number\n",
      "163 is a prime number\n",
      "167 is a prime number\n",
      "173 is a prime number\n",
      "179 is a prime number\n",
      "181 is a prime number\n",
      "191 is a prime number\n",
      "193 is a prime number\n",
      "197 is a prime number\n",
      "199 is a prime number\n"
     ]
    }
   ],
   "source": [
    "#Ques4: Write a Python function that checks if a given number is prime or not from 1 to 200.\n",
    "def is_prime(num):\n",
    "    if num < 2:\n",
    "        return False\n",
    "    for i in range(2, int(num ** 0.5) + 1):\n",
    "        if num % i == 0:\n",
    "            return False\n",
    "    return True\n",
    "\n",
    "# Example usage:\n",
    "for n in range(1, 201):\n",
    "    if is_prime(n):\n",
    "        print(f\"{n} is a prime number\")\n"
   ]
  },
  {
   "cell_type": "code",
   "execution_count": 5,
   "metadata": {},
   "outputs": [
    {
     "name": "stdout",
     "output_type": "stream",
     "text": [
      "1\n",
      "1\n",
      "2\n",
      "3\n",
      "5\n",
      "8\n",
      "13\n",
      "21\n",
      "34\n",
      "55\n"
     ]
    }
   ],
   "source": [
    "#Ques5: Create an iterator class in Python that generates the Fibonacci sequence up to a specified number of\n",
    "#terms.\n",
    "class FibonacciIterator:\n",
    "    def __init__(self, num_terms):\n",
    "        self.num_terms = num_terms\n",
    "        self.a, self.b, self.count = 0, 1, 0\n",
    "\n",
    "    def __iter__(self):\n",
    "        return self\n",
    "\n",
    "    def __next__(self):\n",
    "        if self.count >= self.num_terms:\n",
    "            raise StopIteration\n",
    "        self.a, self.b = self.b, self.a + self.b\n",
    "        self.count += 1\n",
    "        return self.a\n",
    "\n",
    "# Example usage:\n",
    "for fib in FibonacciIterator(10):\n",
    "    print(fib)\n"
   ]
  },
  {
   "cell_type": "code",
   "execution_count": 6,
   "metadata": {},
   "outputs": [
    {
     "name": "stdout",
     "output_type": "stream",
     "text": [
      "1\n",
      "2\n",
      "4\n",
      "8\n",
      "16\n",
      "32\n"
     ]
    }
   ],
   "source": [
    "#Ques6:. Write a generator function in Python that yields the powers of 2 up to a given exponent.\n",
    "def powers_of_two(max_exponent):\n",
    "    for exponent in range(max_exponent + 1):\n",
    "        yield 2 ** exponent\n",
    "\n",
    "# Example usage:\n",
    "for power in powers_of_two(5):\n",
    "    print(power)\n"
   ]
  },
  {
   "cell_type": "code",
   "execution_count": 7,
   "metadata": {},
   "outputs": [],
   "source": [
    "#Ques7:Implement a generator function that reads a file line by line and yields each line as a string.\n",
    "def read_file_line_by_line(file_path):\n",
    "    with open(file_path, 'r') as file:\n",
    "        for line in file:\n",
    "            yield line.strip()  # Remove trailing newline characters\n",
    "\n",
    "# Example usage:\n",
    "# for line in read_file_line_by_line(\"example.txt\"):\n",
    "#     print(line)\n"
   ]
  },
  {
   "cell_type": "code",
   "execution_count": 8,
   "metadata": {},
   "outputs": [
    {
     "name": "stdout",
     "output_type": "stream",
     "text": [
      "Sorted list: [(4, 1), (5, 2), (1, 3), (2, 4)]\n"
     ]
    }
   ],
   "source": [
    "#Ques8:Use a lambda function in Python to sort a list of tuples based on the second element of each tuple\n",
    "# Sample list of tuples\n",
    "tuples_list = [(1, 3), (4, 1), (5, 2), (2, 4)]\n",
    "\n",
    "# Sort based on the second element of each tuple\n",
    "sorted_tuples = sorted(tuples_list, key=lambda x: x[1])\n",
    "\n",
    "print(\"Sorted list:\", sorted_tuples)\n"
   ]
  },
  {
   "cell_type": "code",
   "execution_count": 9,
   "metadata": {},
   "outputs": [
    {
     "name": "stdout",
     "output_type": "stream",
     "text": [
      "Fahrenheit temperatures: [32.0, 68.0, 98.6, 212.0]\n"
     ]
    }
   ],
   "source": [
    "#Ques9: Write a Python program that uses `map()` to convert a list of temperatures from Celsius to Fahrenheit.\n",
    "def celsius_to_fahrenheit(celsius):\n",
    "    return (celsius * 9/5) + 32\n",
    "\n",
    "# List of temperatures in Celsius\n",
    "celsius_temperatures = [0, 20, 37, 100]\n",
    "\n",
    "# Use map to convert Celsius to Fahrenheit\n",
    "fahrenheit_temperatures = list(map(celsius_to_fahrenheit, celsius_temperatures))\n",
    "\n",
    "print(\"Fahrenheit temperatures:\", fahrenheit_temperatures)\n"
   ]
  },
  {
   "cell_type": "code",
   "execution_count": 10,
   "metadata": {},
   "outputs": [
    {
     "name": "stdout",
     "output_type": "stream",
     "text": [
      "Original string: Hello, World!\n",
      "String after removing vowels: Hll, Wrld!\n"
     ]
    }
   ],
   "source": [
    "#Ques10:Create a Python program that uses `filter()` to remove all the vowels from a given string.\n",
    "def remove_vowels(input_string):\n",
    "    vowels = 'aeiouAEIOU'  # Define the vowels to remove\n",
    "    # Use filter to keep only non-vowel characters\n",
    "    filtered_string = ''.join(filter(lambda char: char not in vowels, input_string))\n",
    "    return filtered_string\n",
    "\n",
    "# Example usage\n",
    "original_string = \"Hello, World!\"\n",
    "result_string = remove_vowels(original_string)\n",
    "print(\"Original string:\", original_string)\n",
    "print(\"String after removing vowels:\", result_string)\n"
   ]
  },
  {
   "cell_type": "code",
   "execution_count": 1,
   "metadata": {},
   "outputs": [
    {
     "name": "stdout",
     "output_type": "stream",
     "text": [
      "(34587, 163.8)\n",
      "(98762, 284.0)\n",
      "(77226, 108.85000000000001)\n",
      "(88112, 974.6099999999999)\n"
     ]
    }
   ],
   "source": [
    "#Ques11:  Imagine an accounting routine used in a book shop. It works on a list with sublists, which look like this:\n",
    "\n",
    "\n",
    "\n",
    "\n",
    "\n",
    "\n",
    "\n",
    "#Write a Python program, which returns a list with 2-tuples. Each tuple consists of the order number and the\n",
    "#product of the price per item and the quantity. The product should be increased by 10,- € if the value of the\n",
    "#order is smaller than 100,00 €.\n",
    "\n",
    "#Write a Python program using lambda and map\n",
    "\n",
    "# Order details\n",
    "order_numbers = [34587, 98762, 77226, 88112]\n",
    "book_titles_authors = [\n",
    "    (\"Learning Python\", \"Mark Lutz\"),\n",
    "    (\"Programming Python\", \"Mark Lutz\"),\n",
    "    (\"Head First Python\", \"Paul Barry\"),\n",
    "    (\"Einführung in Python 3\", \"Bernd Klein\")\n",
    "]\n",
    "quantities = [4, 5, 3, 39]\n",
    "prices_per_item = [40.95, 56.80, 32.95, 24.99]\n",
    "\n",
    "# Function to calculate total cost with adjustment\n",
    "def calculate_total(order_number, quantity, price):\n",
    "    total = quantity * price\n",
    "    if total < 100:\n",
    "        total += 10  # Add €10 if total is less than €100\n",
    "    return (order_number, total)\n",
    "\n",
    "# Using lambda and map to create the list of tuples\n",
    "total_costs = list(map(lambda x: calculate_total(x[0], x[1], x[2]), zip(order_numbers, quantities, prices_per_item)))\n",
    "\n",
    "# Output the result\n",
    "for order in total_costs:\n",
    "    print(order)\n"
   ]
  },
  {
   "cell_type": "code",
   "execution_count": null,
   "metadata": {},
   "outputs": [],
   "source": []
  }
 ],
 "metadata": {
  "kernelspec": {
   "display_name": "Python 3",
   "language": "python",
   "name": "python3"
  },
  "language_info": {
   "codemirror_mode": {
    "name": "ipython",
    "version": 3
   },
   "file_extension": ".py",
   "mimetype": "text/x-python",
   "name": "python",
   "nbconvert_exporter": "python",
   "pygments_lexer": "ipython3",
   "version": "3.12.6"
  }
 },
 "nbformat": 4,
 "nbformat_minor": 2
}
