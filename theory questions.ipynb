{
 "cells": [
  {
   "cell_type": "markdown",
   "metadata": {},
   "source": [
    "Ques1: What is the difference between a function and a method in python?\n",
    "Ans:A function is a piece of code that is called by name. It can be passed data to operate on (i.e., the parameters) and can optionally return data (the return value). All data that is passed to a function is explicitly passed."
   ]
  },
  {
   "cell_type": "code",
   "execution_count": 1,
   "metadata": {},
   "outputs": [],
   "source": [
    "#example\n",
    "def sum(num1, num2):\n",
    "    return num1 + num2"
   ]
  },
  {
   "cell_type": "code",
   "execution_count": 2,
   "metadata": {},
   "outputs": [
    {
     "data": {
      "text/plain": [
       "7"
      ]
     },
     "execution_count": 2,
     "metadata": {},
     "output_type": "execute_result"
    }
   ],
   "source": [
    "sum(2,5)"
   ]
  },
  {
   "cell_type": "markdown",
   "metadata": {},
   "source": [
    "Method:\n",
    "A method is a piece of code that is called by name that is associated with an object. In most respects it is identical to a function except for two key differences.\n",
    "\n",
    "1. It is implicitly passed for the object for which it was called.\n",
    "2. It is able to operate on data that is contained within the class (remembering that an object is an instance of a class - the class is the definition, the object is an instance of that data)."
   ]
  },
  {
   "cell_type": "code",
   "execution_count": 28,
   "metadata": {},
   "outputs": [
    {
     "name": "stdout",
     "output_type": "stream",
     "text": [
      "I am a sweet\n"
     ]
    }
   ],
   "source": [
    "#example:\n",
    "class sweet:\n",
    "    def my_method(self):\n",
    "        print (\"I am a sweet\")\n",
    "\n",
    "sweet = sweet()\n",
    "sweet.my_method()  "
   ]
  },
  {
   "cell_type": "markdown",
   "metadata": {},
   "source": [
    "Ques2:Explain the concept of function arguments and parametrs in python?\n",
    "Ans:In Python, **parameters** are the variables defined in a function’s signature to receive values, while **arguments** are the actual values passed to the function during its call. Parameters act as placeholders that allow a function to work with different data each time it’s called. Python supports various types of arguments: positional (values assigned based on order), keyword (values explicitly assigned to specific parameters), default (parameters with pre-set values used if no argument is provided), and variable-length arguments, including `*args` for multiple positional arguments and `**kwargs` for multiple keyword arguments. This flexibility allows functions to handle different numbers and types of inputs efficiently."
   ]
  },
  {
   "cell_type": "code",
   "execution_count": 6,
   "metadata": {},
   "outputs": [
    {
     "name": "stdout",
     "output_type": "stream",
     "text": [
      "My name is komal and I am 25 years old.\n",
      "My hobbies are: dance, cooking\n",
      "Country: india\n",
      "Profession: Engineer\n"
     ]
    }
   ],
   "source": [
    "#examples:\n",
    "# Define a function with various types of parameters\n",
    "def introduce(name, age=18, *hobbies, **additional_info):\n",
    "    print(f\"My name is {name} and I am {age} years old.\")\n",
    "    \n",
    "    if hobbies:\n",
    "        print(\"My hobbies are:\", \", \".join(hobbies))\n",
    "    \n",
    "    if additional_info:\n",
    "        for key, value in additional_info.items():\n",
    "            print(f\"{key.capitalize()}: {value}\")\n",
    "\n",
    "# Call the function using positional and keyword arguments\n",
    "introduce(\"komal\", 25, \"dance\", \"cooking\", country=\"india\", profession=\"Engineer\")\n"
   ]
  },
  {
   "cell_type": "markdown",
   "metadata": {},
   "source": [
    "Ques3:What are the different ways to define and call a function in python?\n",
    "Ans:In Python, you define a function with the def keyword, then write the function identifier (name) followed by parentheses and a colon.\n",
    "\n",
    "The next thing you have to do is make sure you indent with a tab or 4 spaces, and then specify what you want the function to do for you."
   ]
  },
  {
   "cell_type": "code",
   "execution_count": null,
   "metadata": {},
   "outputs": [
    {
     "ename": "SyntaxError",
     "evalue": "incomplete input (364134808.py, line 2)",
     "output_type": "error",
     "traceback": [
      "\u001b[1;36m  Cell \u001b[1;32mIn[10], line 2\u001b[1;36m\u001b[0m\n\u001b[1;33m    def functionName():\u001b[0m\n\u001b[1;37m                       ^\u001b[0m\n\u001b[1;31mSyntaxError\u001b[0m\u001b[1;31m:\u001b[0m incomplete input\n"
     ]
    }
   ],
   "source": [
    "#examples:\n",
    "def functionName():\n",
    "    "
   ]
  },
  {
   "cell_type": "code",
   "execution_count": 11,
   "metadata": {},
   "outputs": [],
   "source": [
    "def myfunction():\n",
    "    print(\"Hello World\")"
   ]
  },
  {
   "cell_type": "code",
   "execution_count": null,
   "metadata": {},
   "outputs": [
    {
     "name": "stdout",
     "output_type": "stream",
     "text": [
      "Hello World\n"
     ]
    }
   ],
   "source": [
    "myfunction()##To call this function, write the name of the function followed by parentheses:"
   ]
  },
  {
   "cell_type": "markdown",
   "metadata": {},
   "source": [
    "Ques4:What is the purpose of 'return' satement in a python functions?\n",
    "Ans:The Python return statement marks the end of a function and specifies the value or values to pass back from the function. Return statements can return data of any type, including integers, floats, strings, lists, dictionaries, and even other functions."
   ]
  },
  {
   "cell_type": "code",
   "execution_count": 14,
   "metadata": {},
   "outputs": [],
   "source": [
    "#example:\n",
    "#syntax:\n",
    "def function_name(parameter1, parameter2):\n",
    "\t# Function body\n",
    "\treturn return_value"
   ]
  },
  {
   "cell_type": "code",
   "execution_count": null,
   "metadata": {},
   "outputs": [],
   "source": [
    "#def: The keyword to start the function definition\n",
    "#function_name: A unique identifier to name the function.\n",
    "#parameter(s): Any number of variables listed inside the parentheses help pass data into the function (optional).\n",
    "#return: The keyword to exit the function before reaching its end (optional).\n",
    "#return_value: A value or variable to return from the function (optional).\n"
   ]
  },
  {
   "cell_type": "code",
   "execution_count": 15,
   "metadata": {},
   "outputs": [
    {
     "name": "stdout",
     "output_type": "stream",
     "text": [
      "Calculated area: 2500\n"
     ]
    }
   ],
   "source": [
    "#example:\n",
    "#A return statement is essential whenever you want to send the result of a function back to where you called the function.\n",
    "def calculate_area(length, width):\n",
    "\tarea = length * width\n",
    "\treturn area\n",
    "\n",
    "area = calculate_area(50, 50) # get the result of the function\n",
    "print(f\"Calculated area: {area}\") # use the result of the function"
   ]
  },
  {
   "cell_type": "markdown",
   "metadata": {},
   "source": [
    "Ques5:What are iterators in python and how do they differ from iterables?\n",
    "Ans:iterators and iterables are both used for looping, but they have distinct roles.\n",
    "#iterables:\n",
    "An iterable is any Python object capable of returning its elements one at a time, such as lists, tuples, dictionaries, and strings. Any object with an __iter__() method that returns an iterator (or that implements __getitem__() for indexing) is considered an iterable. You can use a for loop to go through each item in an iterable"
   ]
  },
  {
   "cell_type": "code",
   "execution_count": 16,
   "metadata": {},
   "outputs": [
    {
     "name": "stdout",
     "output_type": "stream",
     "text": [
      "1\n",
      "2\n",
      "3\n"
     ]
    }
   ],
   "source": [
    "#example:\n",
    "# Example of an iterable\n",
    "my_list = [1, 2, 3]\n",
    "for item in my_list:\n",
    "    print(item)  # Iterable lets you iterate over its items\n"
   ]
  },
  {
   "cell_type": "markdown",
   "metadata": {},
   "source": [
    "Iterator:\n",
    "An iterator is an object representing a stream of data, which returns one element at a time from an iterable. It’s created by calling iter() on an iterable. An iterator implements two methods: __iter__() (returns the iterator object itself) and __next__() (returns the next element). When __next__() reaches the end of the stream, it raises a StopIteration exception."
   ]
  },
  {
   "cell_type": "code",
   "execution_count": null,
   "metadata": {},
   "outputs": [
    {
     "name": "stdout",
     "output_type": "stream",
     "text": [
      "1\n",
      "2\n",
      "3\n"
     ]
    }
   ],
   "source": [
    "#examples:\n",
    "# Creating an iterator from an iterable\n",
    "my_list = [1, 2, 3]\n",
    "my_iterator = iter(my_list)  # Returns an iterator\n",
    "\n",
    "# Using __next__ to get each element\n",
    "print(next(my_iterator))  \n",
    "print(next(my_iterator))  \n",
    "print(next(my_iterator))  \n",
    "# Raises StopIteration once exhausted\n"
   ]
  },
  {
   "cell_type": "markdown",
   "metadata": {},
   "source": [
    "Ques6: Explain the concept of generators in python and how they are defined?\n",
    "Ans:In Python, generators are a type of iterator that allow you to create sequences of values in a memory-efficient way. Generators are defined like normal functions but use the yield keyword instead of return to yield a value to the caller, then pause execution. When next() is called again, the generator resumes right where it left off. This makes generators very useful for handling large datasets or streams of data without storing them all in memory.\n",
    "Defining a Generator\n",
    "A generator is defined using a function with one or more yield statements:"
   ]
  },
  {
   "cell_type": "code",
   "execution_count": 18,
   "metadata": {},
   "outputs": [],
   "source": [
    "def count_up_to(n):\n",
    "    count = 1\n",
    "    while count <= n:\n",
    "        yield count\n",
    "        count += 1\n"
   ]
  },
  {
   "cell_type": "markdown",
   "metadata": {},
   "source": [
    "Here, count_up_to is a generator function that yields numbers from 1 up to n. Each time next() is called, it provides the next value in the sequence and suspends until it’s called again. When the function runs out of values to yield, it automatically raises StopIteration, signaling the end of the sequence\n",
    "Using a Generator\n",
    "To use a generator, you can loop over it directly (e.g., in a for loop) or call next() manually:"
   ]
  },
  {
   "cell_type": "code",
   "execution_count": null,
   "metadata": {},
   "outputs": [
    {
     "name": "stdout",
     "output_type": "stream",
     "text": [
      "1\n",
      "2\n",
      "3\n"
     ]
    }
   ],
   "source": [
    "counter = count_up_to(3)  # Creates a generator object\n",
    "\n",
    "print(next(counter))  \n",
    "print(next(counter))  \n",
    "print(next(counter))  \n",
    "# Raises StopIteration if called again\n"
   ]
  },
  {
   "cell_type": "markdown",
   "metadata": {},
   "source": [
    "Ques7: What are the advantages of using generators over regular functions?\n",
    "Ans: Memory Efficiency: Generators yield one item at a time, reducing memory usage.\n",
    "Lazy Evaluation: Values are computed only as needed.\n",
    "Support for Infinite Sequences: Ideal for modeling endless sequences without exhausting memory.\n",
    "Improved Performance for Large Computations: Process data without waiting for all items to be available.\n",
    "Generators provide a powerful tool for optimizing performance, particularly with large data sets or sequences that don’t need to be stored all at once."
   ]
  },
  {
   "cell_type": "code",
   "execution_count": 20,
   "metadata": {},
   "outputs": [],
   "source": [
    "# Regular function\n",
    "def generate_numbers(n):\n",
    "    numbers = []\n",
    "    for i in range(n):\n",
    "        numbers.append(i)\n",
    "    return numbers\n",
    "\n",
    "# This stores all numbers from 0 to 999999 in memory\n",
    "numbers = generate_numbers(1000000)\n"
   ]
  },
  {
   "cell_type": "code",
   "execution_count": 21,
   "metadata": {},
   "outputs": [
    {
     "data": {
      "text/plain": [
       "[0, 1]"
      ]
     },
     "execution_count": 21,
     "metadata": {},
     "output_type": "execute_result"
    }
   ],
   "source": [
    "generate_numbers(2)"
   ]
  },
  {
   "cell_type": "code",
   "execution_count": 22,
   "metadata": {},
   "outputs": [],
   "source": [
    "# Generator function\n",
    "def generate_numbers(n):\n",
    "    for i in range(n):\n",
    "        yield i\n",
    "\n",
    "# No large list stored in memory; items are generated as needed\n",
    "numbers = generate_numbers(1000000)\n"
   ]
  },
  {
   "cell_type": "code",
   "execution_count": 23,
   "metadata": {},
   "outputs": [
    {
     "data": {
      "text/plain": [
       "<generator object generate_numbers at 0x000001DF5C96A5A0>"
      ]
     },
     "execution_count": 23,
     "metadata": {},
     "output_type": "execute_result"
    }
   ],
   "source": [
    "generate_numbers(5)"
   ]
  },
  {
   "cell_type": "code",
   "execution_count": null,
   "metadata": {},
   "outputs": [
    {
     "name": "stdout",
     "output_type": "stream",
     "text": [
      "0\n",
      "1\n",
      "1\n",
      "2\n"
     ]
    }
   ],
   "source": [
    "def fibonacci():\n",
    "    a, b = 0, 1\n",
    "    while True:\n",
    "        yield a\n",
    "        a, b = b, a + b\n",
    "\n",
    "# Generates values one at a time\n",
    "fib = fibonacci()\n",
    "print(next(fib))  \n",
    "print(next(fib))  \n",
    "print(next(fib))  \n",
    "print(next(fib))  \n"
   ]
  },
  {
   "cell_type": "code",
   "execution_count": null,
   "metadata": {},
   "outputs": [
    {
     "name": "stdout",
     "output_type": "stream",
     "text": [
      "0\n",
      "2\n",
      "4\n"
     ]
    }
   ],
   "source": [
    "def even_numbers():\n",
    "    n = 0\n",
    "    while True:\n",
    "        yield n\n",
    "        n += 2\n",
    "\n",
    "evens = even_numbers()\n",
    "print(next(evens))  \n",
    "print(next(evens))  \n",
    "print(next(evens))  \n"
   ]
  },
  {
   "cell_type": "code",
   "execution_count": 26,
   "metadata": {},
   "outputs": [
    {
     "name": "stdout",
     "output_type": "stream",
     "text": [
      "0\n"
     ]
    }
   ],
   "source": [
    "def large_computation(numbers):\n",
    "    for num in numbers:\n",
    "        if num % 2 == 0:\n",
    "            yield num ** 2\n",
    "\n",
    "results = large_computation(range(1000000))\n",
    "print(next(results))  # Processed on-demand\n"
   ]
  },
  {
   "cell_type": "markdown",
   "metadata": {},
   "source": [
    "Ques8: What is a lambda function in Python and when is it typically used?\n",
    "Ans: \n",
    "A lambda function in Python is a small, anonymous function defined with the lambda keyword rather than the standard def keyword. It can have any number of arguments but only a single expression, which is computed and returned automatically. Lambda functions are typically used for short, simple operations, especially when a function is needed temporarily for a specific task\n"
   ]
  },
  {
   "cell_type": "code",
   "execution_count": null,
   "metadata": {},
   "outputs": [],
   "source": [
    "#syntax:\n",
    "lambda arguments: expression\n",
    "\n",
    "#arguments are the inputs to the lambda function.\n",
    "#expression is a single statement evaluated and returned"
   ]
  },
  {
   "cell_type": "code",
   "execution_count": null,
   "metadata": {},
   "outputs": [
    {
     "name": "stdout",
     "output_type": "stream",
     "text": [
      "8\n"
     ]
    }
   ],
   "source": [
    "#example:\n",
    "# Regular function\n",
    "def add(x, y):\n",
    "    return x + y\n",
    "\n",
    "# Lambda function equivalent\n",
    "add_lambda = lambda x, y: x + y\n",
    "print(add_lambda(3, 5))  \n"
   ]
  },
  {
   "cell_type": "markdown",
   "metadata": {},
   "source": [
    "typical uses of lambda function\n",
    "1. Inline Functions for Short, Simple Operations: Lambdas are often used where a small function is required temporarily. They are particularly helpful with functions like map(), filter(), and sorted(), where the operation is short and concise.\n"
   ]
  },
  {
   "cell_type": "code",
   "execution_count": null,
   "metadata": {},
   "outputs": [
    {
     "name": "stdout",
     "output_type": "stream",
     "text": [
      "[1, 4, 9, 16]\n"
     ]
    }
   ],
   "source": [
    "#examples:\n",
    "# Using lambda with map to square each number in a list\n",
    "numbers = [1, 2, 3, 4]\n",
    "squares = list(map(lambda x: x ** 2, numbers))\n",
    "print(squares)  \n"
   ]
  },
  {
   "cell_type": "markdown",
   "metadata": {},
   "source": [
    "2.Sorting with Custom Key Functions: Lambdas can be used as the key parameter in sorting functions to define custom sorting rules"
   ]
  },
  {
   "cell_type": "code",
   "execution_count": null,
   "metadata": {},
   "outputs": [
    {
     "name": "stdout",
     "output_type": "stream",
     "text": [
      "[(5, 1), (4, 2), (1, 3)]\n"
     ]
    }
   ],
   "source": [
    "#examples:\n",
    "# Sort a list of tuples by the second element in each tuple\n",
    "pairs = [(1, 3), (4, 2), (5, 1)]\n",
    "pairs.sort(key=lambda x: x[1])\n",
    "print(pairs)  \n"
   ]
  },
  {
   "cell_type": "markdown",
   "metadata": {},
   "source": [
    "3. Filtering Data: Lambdas work well with filter() to create small, temporary functions for filtering lists"
   ]
  },
  {
   "cell_type": "code",
   "execution_count": null,
   "metadata": {},
   "outputs": [
    {
     "name": "stdout",
     "output_type": "stream",
     "text": [
      "[2, 4]\n"
     ]
    }
   ],
   "source": [
    "#example:\n",
    "# Filter out odd numbers from a list\n",
    "numbers = [1, 2, 3, 4, 5]\n",
    "even_numbers = list(filter(lambda x: x % 2 == 0, numbers))\n",
    "print(even_numbers) \n",
    "\n"
   ]
  },
  {
   "cell_type": "markdown",
   "metadata": {},
   "source": [
    "4. Creating Simple Inline Functions in Data Processing Pipelines: In more complex data pipelines, lambdas are often used for small data transformation steps"
   ]
  },
  {
   "cell_type": "code",
   "execution_count": 32,
   "metadata": {},
   "outputs": [
    {
     "name": "stdout",
     "output_type": "stream",
     "text": [
      "[('apple', 2), ('cherry', 3), ('banana', 5)]\n"
     ]
    }
   ],
   "source": [
    "## Use lambda to create a simple transformation function in a pipeline\n",
    "data = [(\"apple\", 2), (\"banana\", 5), (\"cherry\", 3)]\n",
    "sorted_data = sorted(data, key=lambda x: x[1])  # Sort by the second item\n",
    "print(sorted_data)  \n"
   ]
  },
  {
   "cell_type": "markdown",
   "metadata": {},
   "source": [
    "Ques9: Explain the purose and usauge of 'map'() function in python?\n",
    "Ans:The map() function is used to apply a given function to every item of an iterable, such as a list or tuple, and returns a map object (which is an iterator)\n",
    "syntax:\n",
    "map(function, iterable)\n",
    "function: The function we want to apply to every element of the iterable\n",
    "iterable: The iterable whose elements we want to process."
   ]
  },
  {
   "cell_type": "code",
   "execution_count": null,
   "metadata": {},
   "outputs": [
    {
     "name": "stdout",
     "output_type": "stream",
     "text": [
      "[1, 2, 3, 4]\n"
     ]
    }
   ],
   "source": [
    "#examples:\n",
    "s = ['1', '2', '3', '4'] #convert list of strings in a list of integers\n",
    "res = map(int, s)\n",
    "print(list(res))"
   ]
  },
  {
   "cell_type": "code",
   "execution_count": 2,
   "metadata": {},
   "outputs": [
    {
     "name": "stdout",
     "output_type": "stream",
     "text": [
      "[2, 4, 6, 8]\n"
     ]
    }
   ],
   "source": [
    "#Converting map object to a list\n",
    "#By default, the map() function returns a map object, which is an iterator. In many cases, we will need to convert this iterator to a list to work with the results directly.\n",
    "a = [1, 2, 3, 4]\n",
    "\n",
    "# Using custom function in \"function\" parameter\n",
    "# This function is simply doubles the provided number\n",
    "def double(val):\n",
    "  return val*2\n",
    "\n",
    "res = list(map(double, a))\n",
    "print(res)\n"
   ]
  },
  {
   "cell_type": "code",
   "execution_count": 3,
   "metadata": {},
   "outputs": [
    {
     "name": "stdout",
     "output_type": "stream",
     "text": [
      "[2, 4, 6, 8]\n"
     ]
    }
   ],
   "source": [
    "#map() with lambda\n",
    "#We can use a lambda function instead of a custom function with map() to make the code shorter and easier\n",
    "a = [1, 2, 3, 4]\n",
    "\n",
    "# Using lambda function in \"function\" parameter\n",
    "# to double each number in the list\n",
    "res = list(map(lambda x: x * 2, a))\n",
    "print(res)\n"
   ]
  },
  {
   "cell_type": "code",
   "execution_count": 4,
   "metadata": {},
   "outputs": [
    {
     "name": "stdout",
     "output_type": "stream",
     "text": [
      "[5, 7, 9]\n"
     ]
    }
   ],
   "source": [
    "#Using map() with multiple iterables\n",
    "#We can use map() with multiple iterables if the function we are applying takes more than one argument.\n",
    "a = [1, 2, 3]\n",
    "b = [4, 5, 6]\n",
    "res = map(lambda x, y: x + y, a, b)\n",
    "print(list(res))"
   ]
  },
  {
   "cell_type": "markdown",
   "metadata": {},
   "source": [
    "Ques10: What is the difference between `map()`, `reduce()`, and `filter()` functions in Python?\n",
    "Ans: map() is used to apply a given function to each element of an iterable and returns a new iterable with the results.\n",
    "reduce() is used to apply a given function to the elements of an iterable in a cumulative way, reducing the iterable to a single value.\n",
    "filter() is used to filter elements from an iterable based on a given condition or function and returns a new iterable with the filtered elements.\n",
    "map, filter, and reduce - Map, Filter, and Reduce are built-in Python functions that can be used for functional programming tasks. With the help of these operations, you may apply a specific function to sequence items using the 'map', filter sequence elements based on a condition using the 'filter', and cumulatively aggregate elements using the 'reduce'."
   ]
  },
  {
   "cell_type": "code",
   "execution_count": 5,
   "metadata": {},
   "outputs": [],
   "source": [
    "#example:\n",
    "data = [1, 2, 3, 4, 5] "
   ]
  },
  {
   "cell_type": "code",
   "execution_count": 6,
   "metadata": {},
   "outputs": [],
   "source": [
    "result1 = map(lambda x: x * 2, data)"
   ]
  },
  {
   "cell_type": "code",
   "execution_count": 7,
   "metadata": {},
   "outputs": [],
   "source": [
    "result2 = filter(lambda x: x % 2 == 0, data) "
   ]
  },
  {
   "cell_type": "code",
   "execution_count": 8,
   "metadata": {},
   "outputs": [],
   "source": [
    "from functools import reduce  \n",
    "result3 = reduce(lambda x, y: x * y, data)"
   ]
  },
  {
   "cell_type": "markdown",
   "metadata": {},
   "source": [
    "Ques11: Using pen & Paper write the internal mechanism for sum operation using  reduce function on this given\n",
    "list:[47,11,42,13]; \n",
    "Ans:Setup:\n",
    "\n",
    "The reduce function takes two main arguments:\n",
    "A function that defines how to combine two elements.\n",
    "An iterable (in this case, the list [47, 11, 42, 13]).\n",
    "The function we'll use for summing is lambda x, y: x + y.\n",
    "Steps:\n",
    "\n",
    "Start with the first two elements in the list and apply the sum operation.\n",
    "\n",
    "Step 1: \n",
    "𝑥\n",
    "=\n",
    "47\n",
    "x=47, \n",
    "𝑦\n",
    "=\n",
    "11\n",
    "y=11\n",
    "\n",
    "47\n",
    "+\n",
    "11\n",
    "=\n",
    "58\n",
    "47+11=58\n",
    "Now, 58 becomes the first argument (x) for the next reduction step.\n",
    "\n",
    "Step 2: \n",
    "𝑥\n",
    "=\n",
    "58\n",
    "x=58, \n",
    "𝑦\n",
    "=\n",
    "42\n",
    "y=42\n",
    "\n",
    "58\n",
    "+\n",
    "42\n",
    "=\n",
    "100\n",
    "58+42=100\n",
    "Now, 100 becomes the first argument (x) for the final reduction step.\n",
    "\n",
    "Step 3: \n",
    "𝑥\n",
    "=\n",
    "100\n",
    "x=100, \n",
    "𝑦\n",
    "=\n",
    "13\n",
    "y=13\n",
    "\n",
    "100\n",
    "+\n",
    "13\n",
    "=\n",
    "113\n",
    "100+13=113\n",
    "Result:\n",
    "\n",
    "The reduce function returns the final result: 113."
   ]
  }
 ],
 "metadata": {
  "kernelspec": {
   "display_name": "Python 3",
   "language": "python",
   "name": "python3"
  },
  "language_info": {
   "codemirror_mode": {
    "name": "ipython",
    "version": 3
   },
   "file_extension": ".py",
   "mimetype": "text/x-python",
   "name": "python",
   "nbconvert_exporter": "python",
   "pygments_lexer": "ipython3",
   "version": "3.12.6"
  }
 },
 "nbformat": 4,
 "nbformat_minor": 2
}
